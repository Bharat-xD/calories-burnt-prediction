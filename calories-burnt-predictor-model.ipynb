{
  "cells": [
    {
      "cell_type": "code",
      "source": [
        "# Import all required libraries for data analysis and modeling\n",
        "import numpy as np\n",
        "import pandas as pd\n",
        "import matplotlib.pyplot as plt\n",
        "import seaborn as sns\n",
        "from sklearn.model_selection import train_test_split, cross_val_score\n",
        "from sklearn.preprocessing import StandardScaler\n",
        "from sklearn.ensemble import RandomForestRegressor\n",
        "from sklearn.metrics import mean_absolute_error, mean_squared_error, r2_score\n",
        "from sklearn.pipeline import Pipeline\n",
        "import joblib  # For saving the trained model\n",
        "import shap    # For model interpretation (though not used in this notebook)\n",
        "import warnings\n",
        "warnings.filterwarnings(\"ignore\")  # Suppress warnings for cleaner output"
      ],
      "metadata": {
        "id": "Qm-9S_IevNBm"
      },
      "execution_count": null,
      "outputs": []
    },
    {
      "cell_type": "code",
      "source": [
        "# Load and merge the dataset\n",
        "calories = pd.read_csv('/content/calories.csv')  # Load calories data\n",
        "exercise_data = pd.read_csv('/content/exercise.csv')  # Load exercise data\n",
        "# Combine exercise data with calories column\n",
        "calories_data = pd.concat([exercise_data, calories['Calories']], axis=1)"
      ],
      "metadata": {
        "id": "tRmRbN1tvM-_"
      },
      "execution_count": null,
      "outputs": []
    },
    {
      "cell_type": "code",
      "source": [
        "# Data preprocessing and feature engineering\n",
        "\n",
        "# Convert gender to numerical values (0 for male, 1 for female)\n",
        "calories_data.replace({\"Gender\": {'male': 0, 'female': 1}}, inplace=True)\n",
        "# Drop User_ID as it's not relevant for modeling\n",
        "calories_data.drop(columns=['User_ID'], inplace=True)\n",
        "\n",
        "# Calculate BMI (Body Mass Index)\n",
        "# Convert height from cm to meters first\n",
        "calories_data['Height_m'] = calories_data['Height'] / 100\n",
        "# BMI formula: weight(kg) / height(m)^2\n",
        "calories_data['BMI'] = calories_data['Weight'] / (calories_data['Height_m'] ** 2)\n",
        "# Remove temporary height in meters column\n",
        "calories_data.drop(columns=['Height_m'], inplace=True)\n",
        "\n",
        "# Create age groups (categorical bins)\n",
        "# Bins: 0-18 (0), 19-35 (1), 36-50 (2), 51-80 (3)\n",
        "calories_data['Age_Group'] = pd.cut(calories_data['Age'], bins=[0, 18, 35, 50, 80],\n",
        "                                  labels=[0, 1, 2, 3])\n",
        "\n",
        "# Create interaction features that might help the model\n",
        "# Age multiplied by exercise duration\n",
        "calories_data['Age_x_Duration'] = calories_data['Age'] * calories_data['Duration']\n",
        "# Weight multiplied by exercise duration\n",
        "calories_data['Weight_x_Duration'] = calories_data['Weight'] * calories_data['Duration']\n",
        "# Heart rate multiplied by body temperature\n",
        "calories_data['HeartRate_x_BodyTemp'] = calories_data['Heart_Rate'] * calories_data['Body_Temp']"
      ],
      "metadata": {
        "id": "J4Uej8T1vM8X"
      },
      "execution_count": null,
      "outputs": []
    },
    {
      "cell_type": "code",
      "source": [
        "# Remove outliers using z-score (keep only data points within 3 standard deviations)\n",
        "from scipy.stats import zscore\n",
        "# Calculate z-scores for all numerical columns\n",
        "z_scores = np.abs(zscore(calories_data.select_dtypes(include=[np.number])))\n",
        "# Keep only rows where all z-scores are less than 3\n",
        "calories_data = calories_data[(z_scores < 3).all(axis=1)]"
      ],
      "metadata": {
        "id": "8eoLx3AmvM5f"
      },
      "execution_count": null,
      "outputs": []
    },
    {
      "cell_type": "code",
      "source": [
        "# Prepare data for modeling\n",
        "\n",
        "# Features (X) - all columns except Calories\n",
        "X = calories_data.drop(columns=['Calories'])\n",
        "# Target (Y) - Calories column\n",
        "Y = calories_data['Calories']\n",
        "\n",
        "# Convert age group categories to dummy variables (one-hot encoding)\n",
        "# drop_first=True to avoid dummy variable trap\n",
        "X = pd.get_dummies(X, columns=['Age_Group'], drop_first=True)\n",
        "\n",
        "# Split data into training (80%) and testing (20%) sets\n",
        "# random_state=2 ensures reproducible splits\n",
        "X_train, X_test, Y_train, Y_test = train_test_split(X, Y, test_size=0.2, random_state=2)"
      ],
      "metadata": {
        "id": "9iaXVcPFvzFa"
      },
      "execution_count": null,
      "outputs": []
    },
    {
      "cell_type": "code",
      "source": [
        "# Create and evaluate machine learning pipeline\n",
        "\n",
        "# Pipeline steps:\n",
        "# 1. StandardScaler: Standardize features (mean=0, std=1)\n",
        "# 2. RandomForestRegressor: Ensemble of decision trees for regression\n",
        "pipeline = Pipeline([\n",
        "    ('scaler', StandardScaler()),\n",
        "    ('model', RandomForestRegressor(n_estimators=100, random_state=42))\n",
        "])\n",
        "\n",
        "# Perform 5-fold cross-validation to evaluate model performance\n",
        "# Using R^2 score as the evaluation metric\n",
        "cv_scores = cross_val_score(pipeline, X, Y, cv=5, scoring='r2')\n",
        "print(\"Cross-Validation R^2 Scores:\", cv_scores)\n",
        "print(\"Average CV R^2 Score:\", np.mean(cv_scores))\n",
        "\n",
        "# Train the model on the full training set\n",
        "pipeline.fit(X_train, Y_train)"
      ],
      "metadata": {
        "id": "dNOWDphsvzDk"
      },
      "execution_count": null,
      "outputs": []
    },
    {
      "cell_type": "code",
      "source": [
        "# Evaluate model performance on test set\n",
        "\n",
        "# Make predictions on test data\n",
        "predictions = pipeline.predict(X_test)\n",
        "\n",
        "# Calculate evaluation metrics\n",
        "mae = mean_absolute_error(Y_test, predictions)  # Mean Absolute Error\n",
        "mse = mean_squared_error(Y_test, predictions)   # Mean Squared Error\n",
        "rmse = np.sqrt(mse)                             # Root Mean Squared Error\n",
        "r2 = r2_score(Y_test, predictions)              # R-squared score\n",
        "\n",
        "print(\"Model Performance:\")\n",
        "print(\"Mean Absolute Error (MAE):\", mae)\n",
        "print(\"Root Mean Squared Error (RMSE):\", rmse)\n",
        "print(\"R^2 Score:\", r2)"
      ],
      "metadata": {
        "id": "Y-JxpHJXvzBC"
      },
      "execution_count": null,
      "outputs": []
    },
    {
      "cell_type": "code",
      "source": [
        "# Visualize actual vs predicted values\n",
        "\n",
        "plt.figure(figsize=(8,6))\n",
        "# Scatter plot of actual vs predicted calories\n",
        "plt.scatter(Y_test, predictions, alpha=0.5)\n",
        "plt.xlabel(\"Actual Calories\")\n",
        "plt.ylabel(\"Predicted Calories\")\n",
        "plt.title(\"Actual vs Predicted Calories\")\n",
        "plt.grid(True)\n",
        "plt.show()"
      ],
      "metadata": {
        "id": "jgRsIGoUvy-a"
      },
      "execution_count": null,
      "outputs": []
    },
    {
      "cell_type": "code",
      "source": [
        "# Save the trained model for future use\n",
        "joblib.dump(pipeline, \"calories_predictor_model.pkl\")"
      ],
      "metadata": {
        "id": "LxtGlm1Rv75d"
      },
      "execution_count": null,
      "outputs": []
    }
  ],
  "metadata": {
    "colab": {
      "name": "Welcome To Colab",
      "toc_visible": true,
      "provenance": []
    },
    "kernelspec": {
      "display_name": "Python 3",
      "name": "python3"
    }
  },
  "nbformat": 4,
  "nbformat_minor": 0
}